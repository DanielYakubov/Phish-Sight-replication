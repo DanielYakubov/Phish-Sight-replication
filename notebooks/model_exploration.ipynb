{
 "cells": [
  {
   "cell_type": "code",
   "execution_count": 42,
   "id": "a7ad9871",
   "metadata": {},
   "outputs": [],
   "source": [
    "# Model Imports\n",
    "from sklearn.neighbors import KNeighborsClassifier\n",
    "from sklearn.dummy import DummyClassifier\n",
    "from sklearn.linear_model import LogisticRegression\n",
    "from sklearn.ensemble import RandomForestClassifier\n",
    "from sklearn.tree import DecisionTreeClassifier\n",
    "from sklearn.naive_bayes import GaussianNB\n",
    "from sklearn.svm import SVC\n",
    "from sklearn.preprocessing import StandardScaler\n",
    "\n",
    "# Metric imports\n",
    "from sklearn.metrics import accuracy_score, f1_score, recall_score, precision_score, matthews_corrcoef,cohen_kappa_score, precision_recall_curve, PrecisionRecallDisplay\n",
    "from sklearn.model_selection import GridSearchCV, train_test_split\n",
    "\n",
    "# other\n",
    "import pandas as pd\n",
    "import joblib\n"
   ]
  },
  {
   "cell_type": "code",
   "execution_count": 43,
   "id": "595361d9",
   "metadata": {},
   "outputs": [],
   "source": [
    "# reading in data\n",
    "X_train = pd.read_csv(\"../data/X_train.csv\").to_numpy()\n",
    "X_test = pd.read_csv(\"../data/X_test.csv\").to_numpy()\n",
    "y_train = pd.read_csv(\"../data/y_train.csv\").to_numpy().ravel()\n",
    "y_test = pd.read_csv(\"../data/y_test.csv\").to_numpy().ravel()"
   ]
  },
  {
   "cell_type": "code",
   "execution_count": 44,
   "id": "8e7049e7",
   "metadata": {},
   "outputs": [],
   "source": [
    "# getting scaled features\n",
    "scaler = StandardScaler()\n",
    "X_train_scaled = scaler.fit_transform(X_train)\n",
    "X_test_scaled = scaler.transform(X_test)"
   ]
  },
  {
   "cell_type": "code",
   "execution_count": 45,
   "id": "c0235f2d",
   "metadata": {},
   "outputs": [
    {
     "data": {
      "text/plain": [
       "array([0, 0, 0])"
      ]
     },
     "execution_count": 45,
     "metadata": {},
     "output_type": "execute_result"
    }
   ],
   "source": [
    "y_train[:3] # just checking"
   ]
  },
  {
   "cell_type": "code",
   "execution_count": 46,
   "id": "f397fc67",
   "metadata": {},
   "outputs": [],
   "source": [
    "def print_eval(y_test, y_hat):\n",
    "    print(\"accuracy\", accuracy_score(y_test, y_hat))\n",
    "    print(\"F1\", f1_score(y_test, y_hat))\n",
    "    print(\"recall\", recall_score(y_test, y_hat))\n",
    "    print(\"precision\", precision_score(y_test, y_hat))\n",
    "    print(\"MCC\", matthews_corrcoef(y_test, y_hat))\n",
    "    print(\"Cohen's K\", cohen_kappa_score(y_test, y_hat))"
   ]
  },
  {
   "cell_type": "markdown",
   "id": "4585c58c",
   "metadata": {},
   "source": [
    "### Dummy"
   ]
  },
  {
   "cell_type": "code",
   "execution_count": 47,
   "id": "a3af5177",
   "metadata": {
    "scrolled": false
   },
   "outputs": [
    {
     "name": "stdout",
     "output_type": "stream",
     "text": [
      "accuracy 0.5240963855421686\n",
      "F1 0.0\n",
      "recall 0.0\n",
      "precision 0.0\n",
      "MCC 0.0\n",
      "Cohen's K 0.0\n"
     ]
    },
    {
     "name": "stderr",
     "output_type": "stream",
     "text": [
      "/Library/Frameworks/Python.framework/Versions/3.9/lib/python3.9/site-packages/sklearn/metrics/_classification.py:1344: UndefinedMetricWarning: Precision is ill-defined and being set to 0.0 due to no predicted samples. Use `zero_division` parameter to control this behavior.\n",
      "  _warn_prf(average, modifier, msg_start, len(result))\n"
     ]
    }
   ],
   "source": [
    "from sklearn.dummy import DummyClassifier\n",
    "\n",
    "dummy = DummyClassifier(strategy=\"most_frequent\")\n",
    "dummy.fit(X_train, y_train)\n",
    "dummy_y = dummy.predict(X_val)\n",
    "\n",
    "print_eval(y_val, dummy_y)"
   ]
  },
  {
   "cell_type": "code",
   "execution_count": 48,
   "id": "bba2bfd4",
   "metadata": {},
   "outputs": [],
   "source": [
    "# Anything with worse than 52% accuracy is really really bad"
   ]
  },
  {
   "cell_type": "markdown",
   "id": "46d0c59c",
   "metadata": {},
   "source": [
    "### Naive Bayes"
   ]
  },
  {
   "cell_type": "code",
   "execution_count": 49,
   "id": "6fbe651a",
   "metadata": {
    "scrolled": true
   },
   "outputs": [
    {
     "data": {
      "text/html": [
       "<style>#sk-container-id-3 {color: black;background-color: white;}#sk-container-id-3 pre{padding: 0;}#sk-container-id-3 div.sk-toggleable {background-color: white;}#sk-container-id-3 label.sk-toggleable__label {cursor: pointer;display: block;width: 100%;margin-bottom: 0;padding: 0.3em;box-sizing: border-box;text-align: center;}#sk-container-id-3 label.sk-toggleable__label-arrow:before {content: \"▸\";float: left;margin-right: 0.25em;color: #696969;}#sk-container-id-3 label.sk-toggleable__label-arrow:hover:before {color: black;}#sk-container-id-3 div.sk-estimator:hover label.sk-toggleable__label-arrow:before {color: black;}#sk-container-id-3 div.sk-toggleable__content {max-height: 0;max-width: 0;overflow: hidden;text-align: left;background-color: #f0f8ff;}#sk-container-id-3 div.sk-toggleable__content pre {margin: 0.2em;color: black;border-radius: 0.25em;background-color: #f0f8ff;}#sk-container-id-3 input.sk-toggleable__control:checked~div.sk-toggleable__content {max-height: 200px;max-width: 100%;overflow: auto;}#sk-container-id-3 input.sk-toggleable__control:checked~label.sk-toggleable__label-arrow:before {content: \"▾\";}#sk-container-id-3 div.sk-estimator input.sk-toggleable__control:checked~label.sk-toggleable__label {background-color: #d4ebff;}#sk-container-id-3 div.sk-label input.sk-toggleable__control:checked~label.sk-toggleable__label {background-color: #d4ebff;}#sk-container-id-3 input.sk-hidden--visually {border: 0;clip: rect(1px 1px 1px 1px);clip: rect(1px, 1px, 1px, 1px);height: 1px;margin: -1px;overflow: hidden;padding: 0;position: absolute;width: 1px;}#sk-container-id-3 div.sk-estimator {font-family: monospace;background-color: #f0f8ff;border: 1px dotted black;border-radius: 0.25em;box-sizing: border-box;margin-bottom: 0.5em;}#sk-container-id-3 div.sk-estimator:hover {background-color: #d4ebff;}#sk-container-id-3 div.sk-parallel-item::after {content: \"\";width: 100%;border-bottom: 1px solid gray;flex-grow: 1;}#sk-container-id-3 div.sk-label:hover label.sk-toggleable__label {background-color: #d4ebff;}#sk-container-id-3 div.sk-serial::before {content: \"\";position: absolute;border-left: 1px solid gray;box-sizing: border-box;top: 0;bottom: 0;left: 50%;z-index: 0;}#sk-container-id-3 div.sk-serial {display: flex;flex-direction: column;align-items: center;background-color: white;padding-right: 0.2em;padding-left: 0.2em;position: relative;}#sk-container-id-3 div.sk-item {position: relative;z-index: 1;}#sk-container-id-3 div.sk-parallel {display: flex;align-items: stretch;justify-content: center;background-color: white;position: relative;}#sk-container-id-3 div.sk-item::before, #sk-container-id-3 div.sk-parallel-item::before {content: \"\";position: absolute;border-left: 1px solid gray;box-sizing: border-box;top: 0;bottom: 0;left: 50%;z-index: -1;}#sk-container-id-3 div.sk-parallel-item {display: flex;flex-direction: column;z-index: 1;position: relative;background-color: white;}#sk-container-id-3 div.sk-parallel-item:first-child::after {align-self: flex-end;width: 50%;}#sk-container-id-3 div.sk-parallel-item:last-child::after {align-self: flex-start;width: 50%;}#sk-container-id-3 div.sk-parallel-item:only-child::after {width: 0;}#sk-container-id-3 div.sk-dashed-wrapped {border: 1px dashed gray;margin: 0 0.4em 0.5em 0.4em;box-sizing: border-box;padding-bottom: 0.4em;background-color: white;}#sk-container-id-3 div.sk-label label {font-family: monospace;font-weight: bold;display: inline-block;line-height: 1.2em;}#sk-container-id-3 div.sk-label-container {text-align: center;}#sk-container-id-3 div.sk-container {/* jupyter's `normalize.less` sets `[hidden] { display: none; }` but bootstrap.min.css set `[hidden] { display: none !important; }` so we also need the `!important` here to be able to override the default hidden behavior on the sphinx rendered scikit-learn.org. See: https://github.com/scikit-learn/scikit-learn/issues/21755 */display: inline-block !important;position: relative;}#sk-container-id-3 div.sk-text-repr-fallback {display: none;}</style><div id=\"sk-container-id-3\" class=\"sk-top-container\"><div class=\"sk-text-repr-fallback\"><pre>GaussianNB()</pre><b>In a Jupyter environment, please rerun this cell to show the HTML representation or trust the notebook. <br />On GitHub, the HTML representation is unable to render, please try loading this page with nbviewer.org.</b></div><div class=\"sk-container\" hidden><div class=\"sk-item\"><div class=\"sk-estimator sk-toggleable\"><input class=\"sk-toggleable__control sk-hidden--visually\" id=\"sk-estimator-id-3\" type=\"checkbox\" checked><label for=\"sk-estimator-id-3\" class=\"sk-toggleable__label sk-toggleable__label-arrow\">GaussianNB</label><div class=\"sk-toggleable__content\"><pre>GaussianNB()</pre></div></div></div></div></div>"
      ],
      "text/plain": [
       "GaussianNB()"
      ]
     },
     "execution_count": 49,
     "metadata": {},
     "output_type": "execute_result"
    }
   ],
   "source": [
    "# let's take a look at NB precision recall\n",
    "nb = GaussianNB()\n",
    "nb.fit(X_train, y_train) # doesn't need standardized X_train"
   ]
  },
  {
   "cell_type": "code",
   "execution_count": 76,
   "id": "e6200e5f",
   "metadata": {},
   "outputs": [],
   "source": [
    "Y_proba = nb.predict_proba(X_test)[:, 1] # Y_proba of positive class only"
   ]
  },
  {
   "cell_type": "code",
   "execution_count": 77,
   "id": "71c65b18",
   "metadata": {},
   "outputs": [
    {
     "data": {
      "text/plain": [
       "array([0.49857968, 0.84201858, 0.44863928, 0.48893497, 0.47469839,\n",
       "       0.59802108, 0.51932196, 0.48799616, 0.20404537, 0.31718183,\n",
       "       0.17756529, 0.35191217, 0.40099519, 0.84196494, 0.39453178,\n",
       "       0.61877765, 0.36847768, 0.82506841, 0.4646831 , 0.56424957,\n",
       "       0.23661505, 0.52505399, 0.437272  , 0.58151087, 0.65087316,\n",
       "       0.47302783, 0.43177157, 0.38226066, 0.46074395, 0.44067206,\n",
       "       0.38506045, 0.61239884, 0.39696189, 0.68048839, 0.21725801,\n",
       "       0.18619409, 0.56253826, 0.58290528, 0.44759435, 0.16136849,\n",
       "       0.35776008, 0.43630051, 0.44054221, 0.61319484, 0.59972548,\n",
       "       0.41006558, 0.83548334, 0.81980028, 0.83548334, 0.51723304,\n",
       "       0.38877607, 0.40738154, 0.23034088, 0.43968822, 0.39012743,\n",
       "       0.49280063, 0.39603555, 0.46325263, 0.84225104, 0.54034697,\n",
       "       0.53422168, 0.36056571, 0.86610453, 0.55187564, 0.3359398 ,\n",
       "       0.86610453, 0.62485255, 0.52404843, 0.38529204, 0.563708  ,\n",
       "       0.86610453, 0.38379423, 0.35471185, 0.20460349, 0.41105715,\n",
       "       0.44470194, 0.4969931 , 0.41145405, 0.54640561, 0.56180081,\n",
       "       0.36458789, 0.35006007, 0.15447397, 0.84190366, 0.50547683,\n",
       "       0.12282037, 0.41160984, 0.40995426, 0.4085144 , 0.39907784,\n",
       "       0.55911147, 0.48559956, 0.40032207, 0.45665217, 0.46502111,\n",
       "       0.5610182 , 0.59386704, 0.50353316, 0.40433765, 0.46939963,\n",
       "       0.45727686, 0.40795219, 0.21177212, 0.6091514 , 0.4514012 ,\n",
       "       0.10446741, 0.42329547, 0.49650216, 0.49399256, 0.43677404,\n",
       "       0.45088297, 0.44171294, 0.5391502 , 0.12753336, 0.23266784,\n",
       "       0.4290392 , 0.59754281, 0.53581138, 0.44064792, 0.52088489,\n",
       "       0.14651875, 0.46751741, 0.41917721, 0.53625505, 0.4441636 ,\n",
       "       0.52702542, 0.41533994, 0.35622229, 0.68494132, 0.10898391,\n",
       "       0.53932784, 0.44539482, 0.50857369, 0.11006086, 0.84252214,\n",
       "       0.51439636, 0.39093553, 0.47856345, 0.86610453, 0.40224256,\n",
       "       0.8348939 , 0.47571273, 0.43639907, 0.84218961, 0.4871052 ,\n",
       "       0.41143806, 0.15289116, 0.56190227, 0.18558413, 0.25682765,\n",
       "       0.51307987, 0.62814864, 0.84011867, 0.33759425, 0.83548334,\n",
       "       0.4269808 , 0.39649612, 0.41147725, 0.48072747, 0.4163086 ,\n",
       "       0.53666894, 0.2804348 , 0.56773952, 0.49075301, 0.11337386,\n",
       "       0.55545055, 0.08142564, 0.45475154, 0.54413404, 0.44636986,\n",
       "       0.83548334, 0.51436237, 0.51286882, 0.68288815, 0.38467257,\n",
       "       0.14507175, 0.50427946, 0.84367261, 0.50361421, 0.49574718,\n",
       "       0.3722032 , 0.47521252, 0.51388127, 0.48691669, 0.51764516,\n",
       "       0.37884996, 0.55429428, 0.83566291, 0.60979849, 0.54693318,\n",
       "       0.42337347, 0.39442762, 0.54378882, 0.82479425, 0.40497476,\n",
       "       0.40215408, 0.41920213, 0.8431175 , 0.52672917, 0.39114128,\n",
       "       0.56415752, 0.38129852, 0.61055997, 0.36496886, 0.36333163,\n",
       "       0.42986011, 0.44498727, 0.41687247, 0.52446969, 0.36657814,\n",
       "       0.44814467, 0.47473526, 0.45162342, 0.5757922 , 0.48039082,\n",
       "       0.47090228, 0.43607493, 0.16152178, 0.09794019, 0.46431834,\n",
       "       0.52697665, 0.30026253, 0.18851148, 0.12352363, 0.50088714,\n",
       "       0.63235377, 0.41244092, 0.49084569, 0.14287239, 0.47476384,\n",
       "       0.45303611, 0.8200973 , 0.84410422, 0.14948849, 0.35018329,\n",
       "       0.5454585 , 0.49630999, 0.10408677, 0.56013475, 0.40944398,\n",
       "       0.41242428, 0.09401429, 0.22465273, 0.22355968, 0.56125537,\n",
       "       0.44627096, 0.53334047, 0.50423509, 0.48104945, 0.7523713 ,\n",
       "       0.47640842, 0.40642904, 0.37356651, 0.46265855, 0.53975981,\n",
       "       0.48721763, 0.40207223, 0.35862677, 0.19129175, 0.3441291 ,\n",
       "       0.41757598, 0.49807696, 0.56478172, 0.61432405, 0.38218802,\n",
       "       0.40221477, 0.52664996, 0.35706935, 0.20425845, 0.48072124,\n",
       "       0.09305436, 0.39356945, 0.41729672, 0.38639074, 0.35545975,\n",
       "       0.83548334, 0.49114782, 0.1089776 , 0.44988285, 0.83548334,\n",
       "       0.44929257, 0.62843212, 0.30377298, 0.45505714, 0.86610453,\n",
       "       0.84202705, 0.84236482, 0.54634153, 0.52132784, 0.52629958,\n",
       "       0.18656097, 0.57848698, 0.38368879, 0.4172631 , 0.07934189])"
      ]
     },
     "execution_count": 77,
     "metadata": {},
     "output_type": "execute_result"
    }
   ],
   "source": [
    "Y_proba"
   ]
  },
  {
   "cell_type": "code",
   "execution_count": 78,
   "id": "f68f8602",
   "metadata": {},
   "outputs": [
    {
     "data": {
      "text/plain": [
       "<sklearn.metrics._plot.precision_recall_curve.PrecisionRecallDisplay at 0x7f8640557eb0>"
      ]
     },
     "execution_count": 78,
     "metadata": {},
     "output_type": "execute_result"
    },
    {
     "data": {
      "image/png": "[encoded data removed]",
      "text/plain": [
       "<Figure size 640x480 with 1 Axes>"
      ]
     },
     "metadata": {},
     "output_type": "display_data"
    }
   ],
   "source": [
    "PrecisionRecallDisplay.from_predictions(y_test, Y_proba)"
   ]
  },
  {
   "cell_type": "code",
   "execution_count": 61,
   "id": "50cf4905",
   "metadata": {},
   "outputs": [],
   "source": [
    "# 1.0 recall also gives us a reasonable precision"
   ]
  },
  {
   "cell_type": "code",
   "execution_count": 62,
   "id": "d739964e",
   "metadata": {},
   "outputs": [],
   "source": [
    "# Naive Bayes does not need tuning"
   ]
  },
  {
   "cell_type": "code",
   "execution_count": 63,
   "id": "8c944be4",
   "metadata": {},
   "outputs": [
    {
     "name": "stdout",
     "output_type": "stream",
     "text": [
      "accuracy 0.6169491525423729\n",
      "F1 0.5150214592274678\n",
      "recall 0.48\n",
      "precision 0.5555555555555556\n",
      "MCC 0.20273892631890095\n",
      "Cohen's K 0.20126991733556965\n"
     ]
    }
   ],
   "source": [
    "# let's take a look at NB precision recall\n",
    "nb = GaussianNB()\n",
    "nb.fit(X_train, y_train) # doesn't need standardized X_train\n",
    "y_pred = nb.predict(X_test)\n",
    "print_eval(y_test, y_pred)"
   ]
  },
  {
   "cell_type": "markdown",
   "id": "2d18bfe3",
   "metadata": {},
   "source": [
    "### Logistic Regression"
   ]
  },
  {
   "cell_type": "code",
   "execution_count": 66,
   "id": "b90507e4",
   "metadata": {},
   "outputs": [],
   "source": [
    "# will need to do this a lot\n",
    "def get_best_model_params(model, params):\n",
    "    gs_clf = GridSearchCV(estimator=model(),\n",
    "                     param_grid=params,\n",
    "                     cv=20,\n",
    "                     verbose=0,\n",
    "                     scoring='recall')\n",
    "\n",
    "    gs_clf.fit(X_train_scaled, y_train)\n",
    "\n",
    "    # training the model using the best params\n",
    "    bp = gs_clf.best_params_\n",
    "    print(f\"Best parameters found {bp}\")\n",
    "    return bp"
   ]
  },
  {
   "cell_type": "code",
   "execution_count": 69,
   "id": "00c03d13",
   "metadata": {},
   "outputs": [
    {
     "name": "stdout",
     "output_type": "stream",
     "text": [
      "Best parameters found {'C': 0.0001, 'penalty': 'l2', 'solver': 'liblinear'}\n",
      "accuracy 0.7084745762711865\n",
      "F1 0.635593220338983\n",
      "recall 0.6\n",
      "precision 0.6756756756756757\n",
      "MCC 0.3960081103291501\n",
      "Cohen's K 0.3940769047050394\n"
     ]
    }
   ],
   "source": [
    "# some combinations are not possible, so fine-tuning the LR takes some work\n",
    "\n",
    "# In terms of solvers, it looks like liblinear and newton-cholesky are the only ones that make sense\n",
    "# Liblinear is good for small datasets, while newton-cholesky is good when n_samples > n_features, per sklearn docs\n",
    "\n",
    "\n",
    "# First, let's find the best functioning model for the liblinear solver\n",
    "logistic_params = {\"solver\": [\"liblinear\"],\n",
    "    \"C\": [1.0, 0.1, 0.01, 0.001, 0.0001],\n",
    "    \"penalty\": [\"l1\", \"l2\"]}\n",
    "\n",
    "best_params = get_best_model_params(LogisticRegression, logistic_params)\n",
    "liblinear_model = LogisticRegression(**best_params)\n",
    "liblinear_model.fit(X_train_scaled, y_train)\n",
    "\n",
    "# looking at test here\n",
    "y_pred = liblinear_model.predict(X_test_scaled)\n",
    "print_eval(y_test, y_pred)"
   ]
  },
  {
   "cell_type": "code",
   "execution_count": 70,
   "id": "abe648fe",
   "metadata": {},
   "outputs": [
    {
     "name": "stdout",
     "output_type": "stream",
     "text": [
      "Best parameters found {'C': 1.0, 'penalty': 'l2', 'solver': 'newton-cholesky'}\n",
      "accuracy 0.711864406779661\n",
      "F1 0.5933014354066987\n",
      "recall 0.496\n",
      "precision 0.7380952380952381\n",
      "MCC 0.4013997704589625\n",
      "Cohen's K 0.3832246956093962\n"
     ]
    }
   ],
   "source": [
    "# But what about with newton-cholesky?\n",
    "logistic_params = {\"solver\": [\"newton-cholesky\"],\n",
    "    \"C\": [1.0, 0.1, 0.01, 0.001, 0.0001],\n",
    "    \"penalty\": [\"l2\"]}\n",
    "\n",
    "\n",
    "best_params = get_best_model_params(LogisticRegression, logistic_params)\n",
    "newton_cholesky_model = LogisticRegression(**best_params)\n",
    "newton_cholesky_model.fit(X_train_scaled, y_train)\n",
    "\n",
    "# looking at test here\n",
    "y_pred = newton_cholesky_model.predict(X_test_scaled)\n",
    "\n",
    "print_eval(y_test, y_pred)"
   ]
  },
  {
   "cell_type": "code",
   "execution_count": 71,
   "id": "02e67a19",
   "metadata": {},
   "outputs": [],
   "source": [
    "# Other solvers don't make sense to investigate. Let's look at precision-recall for liblinear_model. It did better on Recall, the target metric"
   ]
  },
  {
   "cell_type": "code",
   "execution_count": 75,
   "id": "7205c756",
   "metadata": {},
   "outputs": [
    {
     "data": {
      "text/plain": [
       "<sklearn.metrics._plot.precision_recall_curve.PrecisionRecallDisplay at 0x7f8640557a30>"
      ]
     },
     "execution_count": 75,
     "metadata": {},
     "output_type": "execute_result"
    },
    {
     "data": {
      "image/png": "[encoded data removed]",
      "text/plain": [
       "<Figure size 640x480 with 1 Axes>"
      ]
     },
     "metadata": {},
     "output_type": "display_data"
    }
   ],
   "source": [
    "Y_prob_preds = liblinear_model.predict_proba(X_test_scaled)[:, 1]\n",
    "PrecisionRecallDisplay.from_predictions(y_test, Y_prob_preds)"
   ]
  },
  {
   "cell_type": "markdown",
   "id": "c3d0c29a",
   "metadata": {},
   "source": [
    "### Support Vector Machine"
   ]
  },
  {
   "cell_type": "code",
   "execution_count": null,
   "id": "aa84e755",
   "metadata": {},
   "outputs": [],
   "source": [
    "SVC_params = {\"C\": [1.0, 0.1, 0.01, 0.001, 0.0001],\n",
    "             \"gamma\": [\"scale\", \"auto\"], \n",
    "             \"degree\": [1, 2, 3, 4], \n",
    "             \"kernel\": [\"linear\", \"poly\", \"rbf\", \"sigmoid\"]}\n",
    "best_params = get_best_model_params(SVC, SVC_params)\n",
    "svc_model = SVC(**best_params)\n",
    "svc_model.fit(X_train_scaled)\n",
    "\n",
    "y_pred = svc_model.predict(X_test_scaled)\n",
    "print_eval(y_test, y_pred)\n",
    "\n",
    "Y_prob_preds = svc_model.predict_proba(X_test_scaled)[:, 1]\n",
    "PrecisionRecallDisplay.from_predictions(y_test, Y_prob_preds)"
   ]
  },
  {
   "cell_type": "markdown",
   "id": "4211f193",
   "metadata": {},
   "source": [
    "### Decision Tree Classifier"
   ]
  },
  {
   "cell_type": "code",
   "execution_count": null,
   "id": "1d10df93",
   "metadata": {},
   "outputs": [],
   "source": [
    "DT_params = {\n",
    "        \"criterion\": [\"gini\", \"entropy\", \"log_loss\"],\n",
    "        \"max_depth\": [None, 3, 5, 7, 9]\n",
    "    }\n",
    "best_paramst_params = get_best_modelDecisionTreeClassifierrams(DecisionTree, DT_params)\n",
    "DT = DecisionTree(**best_params)\n",
    "DT.fit(X_train_scaled)\n",
    "\n",
    "y_pred = DT.predict(X_test_scaled)\n",
    "print_eval(y_test, y_pred)\n",
    "\n",
    "Y_prob_preds = DT.predict_proba(X_test_scaled)[:, 1]\n",
    "PrecisionRecallDisplay.from_predictions(y_test, Y_prob_preds)"
   ]
  },
  {
   "cell_type": "markdown",
   "id": "50011347",
   "metadata": {},
   "source": [
    "### Random Forest"
   ]
  },
  {
   "cell_type": "code",
   "execution_count": null,
   "id": "3cb3d64f",
   "metadata": {},
   "outputs": [],
   "source": [
    "RF_params = {\n",
    "        \"n_estimators\": [25, 50, 100, 150],\n",
    "        \"criterion\": [\"gini\", \"entropy\", \"log_loss\"],\n",
    "        \"max_depth\": [None, 3, 5, 7, 9]\n",
    "}\n",
    "best_params = get_best_model_params(RandomForest, RF_params)\n",
    "RF = RandomForest(**best_params)\n",
    "RF.fit(X_train_scaled)\n",
    "\n",
    "y_pred = RF.predict(X_test_scaled)\n",
    "print_eval(y_test, y_pred)\n",
    "\n",
    "Y_prob_preds = RF.predict_proba(X_test_scaled)[:, 1]\n",
    "PrecisionRecallDisplay.from_predictions(y_test, Y_prob_preds)"
   ]
  },
  {
   "cell_type": "code",
   "execution_count": null,
   "id": "91844208",
   "metadata": {},
   "outputs": [],
   "source": []
  }
 ],
 "metadata": {
  "kernelspec": {
   "display_name": "machine-learning",
   "language": "python",
   "name": "machine-learning"
  },
  "language_info": {
   "codemirror_mode": {
    "name": "ipython",
    "version": 3
   },
   "file_extension": ".py",
   "mimetype": "text/x-python",
   "name": "python",
   "nbconvert_exporter": "python",
   "pygments_lexer": "ipython3",
   "version": "3.9.0"
  }
 },
 "nbformat": 4,
 "nbformat_minor": 5
}
